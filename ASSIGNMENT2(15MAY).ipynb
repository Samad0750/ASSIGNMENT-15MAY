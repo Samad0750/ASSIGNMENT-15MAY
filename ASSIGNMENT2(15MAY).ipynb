{
 "cells": [
  {
   "cell_type": "markdown",
   "id": "171e18c5-3c90-48c2-8bfb-d1c54c967a74",
   "metadata": {},
   "source": [
    "QUESTION-1\n",
    "\n",
    " we can comment a code by simply put '#' sign  in very first position of the code  or by ('''  ''') in very first and  last positins.\n"
   ]
  },
  {
   "cell_type": "markdown",
   "id": "063a80e5-e826-4476-a251-b02e10b13926",
   "metadata": {},
   "source": [
    "QUESTION-2\n",
    "\n",
    "variables are generally data assigned objects given by a coder. once, an object is assigned , we can refer to the objec by that name.\n",
    "ex:\n",
    "a=\"pwskills'\n",
    "here, variable 'a' assigned by a string 'pwskills'. "
   ]
  },
  {
   "cell_type": "markdown",
   "id": "03b2c376-e9bf-4aad-b528-247624729b42",
   "metadata": {},
   "source": [
    "QUESTION-3\n",
    "\n",
    "we can easily change one data ype to another by some inbuilt functions like int,str,tup,list etc..\n",
    "for example:-\n",
    "a=78.87  , is now a float . To change it to integer value we use a function given below:\n",
    "b=type(a)  , which is now changed to an integer.\n",
    "\n"
   ]
  },
  {
   "cell_type": "markdown",
   "id": "df9154d4-df3b-4635-b006-c0a0574bcd00",
   "metadata": {},
   "source": [
    "QUESTION-4\n",
    "\n",
    "To run Python scripts with the python command, simply open a command-line and type in the word python , or python3 if you have both versions, followed by the path to your script, just like this: $ python3 hello.py Hello World!"
   ]
  },
  {
   "cell_type": "markdown",
   "id": "ecde8bbf-f1a9-44da-9ca8-1be6cac17648",
   "metadata": {},
   "source": [
    "QUESTION-5\n",
    "\n",
    "my_list= [1,2,3,4,5]\n",
    "code for slicing:\n",
    "my_list[:]\n",
    "code for sublist:\n",
    "my_list[1:3]\n"
   ]
  },
  {
   "cell_type": "markdown",
   "id": "d45656eb-ad49-441d-9688-e23bc20e58a5",
   "metadata": {},
   "source": [
    "QUESTION-6\n",
    "\n",
    "Complex number is a combination of real and imaginary number ( called as real and imaginary part).\n",
    "EXAMPLE:- 5+6j\n",
    "here 5 is the real part whereas 6 is the imaginary part.\n",
    "\n"
   ]
  },
  {
   "cell_type": "markdown",
   "id": "0adaddb6-64e7-4ee8-8985-8101c550dba6",
   "metadata": {},
   "source": [
    "QUESTION-7\n",
    "\n",
    "age=25\n",
    "\n",
    "POINTS TO REMEMBER WHILE ASSIGNING A VARIABLE NAME:\n",
    "1. It doesn't contains any special operators like $,%,& etc."
   ]
  },
  {
   "cell_type": "markdown",
   "id": "b7a6afbf-3f04-42df-8306-d59eda4730dc",
   "metadata": {},
   "source": [
    "QUESTION-8\n",
    "\n",
    "price=9.99\n",
    "\n",
    "this is a 'float' type data variable.\n",
    "code to check data type:\n",
    "price=9.99\n",
    "type(price)\n",
    "float\n",
    "\n"
   ]
  },
  {
   "cell_type": "markdown",
   "id": "4bcaa25b-5876-4246-b8f8-94aab02e43bb",
   "metadata": {},
   "source": [
    "QUESTION-9\n",
    "\n",
    "name=\"ABDUL SAMAD CHAUHAN\"\n",
    "name"
   ]
  },
  {
   "cell_type": "markdown",
   "id": "cd784292-43d8-421c-bba5-90bb2ff3f20f",
   "metadata": {},
   "source": [
    "QUESTION-10\n",
    "\n",
    "s=\"Hello, World!\"\n",
    "s[6:12]"
   ]
  },
  {
   "cell_type": "markdown",
   "id": "1e5019b5-942a-4942-bf9f-18dff58bd2f4",
   "metadata": {},
   "source": [
    "QUESTION-11\n",
    "\n",
    "\"is_student\"=True"
   ]
  },
  {
   "cell_type": "code",
   "execution_count": null,
   "id": "07670a9e-6f1a-4fa3-8614-18b62023bfd8",
   "metadata": {},
   "outputs": [],
   "source": []
  }
 ],
 "metadata": {
  "kernelspec": {
   "display_name": "Python 3 (ipykernel)",
   "language": "python",
   "name": "python3"
  },
  "language_info": {
   "codemirror_mode": {
    "name": "ipython",
    "version": 3
   },
   "file_extension": ".py",
   "mimetype": "text/x-python",
   "name": "python",
   "nbconvert_exporter": "python",
   "pygments_lexer": "ipython3",
   "version": "3.10.8"
  }
 },
 "nbformat": 4,
 "nbformat_minor": 5
}
